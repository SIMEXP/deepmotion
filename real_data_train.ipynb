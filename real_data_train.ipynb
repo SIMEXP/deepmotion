{
 "cells": [
  {
   "cell_type": "code",
   "execution_count": 10,
   "metadata": {
    "collapsed": true
   },
   "outputs": [],
   "source": [
    "%matplotlib inline\n",
    "import matplotlib.pyplot as plt\n",
    "import nibabel as nib\n",
    "from deepmotion import registration\n",
    "from deepmotion.simulations import simu3d\n",
    "from deepmotion.utils import montage, io_utils\n",
    "import pandas as pd\n",
    "from os import listdir\n",
    "from os.path import isdir"
   ]
  },
  {
   "cell_type": "code",
   "execution_count": null,
   "metadata": {
    "collapsed": true
   },
   "outputs": [],
   "source": []
  },
  {
   "cell_type": "code",
   "execution_count": 8,
   "metadata": {
    "scrolled": true
   },
   "outputs": [
    {
     "data": {
      "text/plain": [
       "['0040033',\n",
       " '0040134',\n",
       " '0040076',\n",
       " '0040127',\n",
       " '0040057',\n",
       " '0040020',\n",
       " '0040115',\n",
       " '0040018',\n",
       " '0040065',\n",
       " '0040068',\n",
       " '0040086',\n",
       " '0040062',\n",
       " '0040118',\n",
       " '0040120',\n",
       " '0040027',\n",
       " '0040050',\n",
       " '0040095',\n",
       " '0040139',\n",
       " '0040043',\n",
       " '0040144',\n",
       " '0040140',\n",
       " '0040030',\n",
       " '0040091',\n",
       " '0040023',\n",
       " '0040054',\n",
       " '0040124',\n",
       " '0040066',\n",
       " '0040116',\n",
       " '0040061',\n",
       " '0040111',\n",
       " '0040053',\n",
       " '0040024',\n",
       " '0040129',\n",
       " '0040123',\n",
       " '0040102',\n",
       " '0040130',\n",
       " '0040147',\n",
       " '0040048',\n",
       " '0040138',\n",
       " '0040035',\n",
       " '0040014',\n",
       " '0040063',\n",
       " '0040119',\n",
       " '0040069',\n",
       " '0040087',\n",
       " '0040113',\n",
       " '0040051',\n",
       " '0040026',\n",
       " '0040121',\n",
       " '0040056',\n",
       " '0040013',\n",
       " '0040114',\n",
       " '0040019',\n",
       " '0040038',\n",
       " '0040135',\n",
       " '0040045',\n",
       " '0040107',\n",
       " '0040093',\n",
       " '0040036',\n",
       " '0040146',\n",
       " '0040131',\n",
       " '0040017',\n",
       " '0040058',\n",
       " '0040052',\n",
       " '0040128',\n",
       " '0040125',\n",
       " '0040055',\n",
       " '0040067',\n",
       " '0040031',\n",
       " '0040136',\n",
       " '0040141',\n",
       " '0040074',\n",
       " '0040104',\n",
       " '0040090']"
      ]
     },
     "execution_count": 8,
     "metadata": {},
     "output_type": "execute_result"
    }
   ],
   "source": []
  },
  {
   "cell_type": "code",
   "execution_count": 12,
   "metadata": {},
   "outputs": [
    {
     "name": "stdout",
     "output_type": "stream",
     "text": [
      "(64, 64, 33, 150)\n"
     ]
    },
    {
     "data": {
      "text/plain": [
       "(<nibabel.nifti1.Nifti1Image at 0x7fa01834a890>,\n",
       "             0         1         2         3         4         5\n",
       " 0    0.043440  0.425400 -1.226749  0.640604 -0.078349 -0.043955\n",
       " 1   -0.008403  0.054975 -0.885526  0.310932 -0.006709 -0.006359\n",
       " 2   -0.011756  0.073043 -0.700758  0.256038  0.002106 -0.002892\n",
       " 3   -0.025903  0.142788 -0.667318  0.310518  0.011707  0.001713\n",
       " 4   -0.021974  0.132155 -0.658488  0.371235  0.008697 -0.000845\n",
       " 5    0.000000  0.000000  0.000000  0.000000  0.000000  0.000000\n",
       " 6    0.000000  0.000000  0.000000  0.000000  0.000000  0.000000\n",
       " 7    0.000000  0.000000  0.000000  0.000000  0.000000  0.000000\n",
       " 8    0.000000  0.000000  0.000000  0.000000  0.000000  0.000000\n",
       " 9    0.000000  0.000000  0.000000  0.000000  0.000000  0.000000\n",
       " 10   0.000000  0.000000  0.000000  0.000000  0.000000  0.000000\n",
       " 11   0.000000  0.000000  0.000000  0.000000  0.000000  0.000000\n",
       " 12   0.000000  0.000000  0.000000  0.000000  0.000000  0.000000\n",
       " 13   0.000000  0.000000  0.000000  0.000000  0.000000  0.000000\n",
       " 14   0.000000  0.000000  0.000000  0.000000  0.000000  0.000000\n",
       " 15   0.000000  0.000000  0.000000  0.000000  0.000000  0.000000\n",
       " 16   0.000000  0.000000  0.000000  0.000000  0.000000  0.000000\n",
       " 17   0.000000  0.000000  0.000000  0.000000  0.000000  0.000000\n",
       " 18   0.000000  0.000000  0.000000  0.000000  0.000000  0.000000\n",
       " 19   0.000000  0.000000  0.000000  0.000000  0.000000  0.000000\n",
       " 20   0.000000  0.000000  0.000000  0.000000  0.000000  0.000000\n",
       " 21   0.000000  0.000000  0.000000  0.000000  0.000000  0.000000\n",
       " 22   0.000000  0.000000  0.000000  0.000000  0.000000  0.000000\n",
       " 23   0.000000  0.000000  0.000000  0.000000  0.000000  0.000000\n",
       " 24   0.000000  0.000000  0.000000  0.000000  0.000000  0.000000\n",
       " 25   0.000000  0.000000  0.000000  0.000000  0.000000  0.000000\n",
       " 26   0.000000  0.000000  0.000000  0.000000  0.000000  0.000000\n",
       " 27   0.000000  0.000000  0.000000  0.000000  0.000000  0.000000\n",
       " 28   0.000000  0.000000  0.000000  0.000000  0.000000  0.000000\n",
       " 29   0.000000  0.000000  0.000000  0.000000  0.000000  0.000000\n",
       " ..        ...       ...       ...       ...       ...       ...\n",
       " 120  0.000000  0.000000  0.000000  0.000000  0.000000  0.000000\n",
       " 121  0.000000  0.000000  0.000000  0.000000  0.000000  0.000000\n",
       " 122  0.000000  0.000000  0.000000  0.000000  0.000000  0.000000\n",
       " 123  0.000000  0.000000  0.000000  0.000000  0.000000  0.000000\n",
       " 124  0.000000  0.000000  0.000000  0.000000  0.000000  0.000000\n",
       " 125  0.000000  0.000000  0.000000  0.000000  0.000000  0.000000\n",
       " 126  0.000000  0.000000  0.000000  0.000000  0.000000  0.000000\n",
       " 127  0.000000  0.000000  0.000000  0.000000  0.000000  0.000000\n",
       " 128  0.000000  0.000000  0.000000  0.000000  0.000000  0.000000\n",
       " 129  0.000000  0.000000  0.000000  0.000000  0.000000  0.000000\n",
       " 130  0.000000  0.000000  0.000000  0.000000  0.000000  0.000000\n",
       " 131  0.000000  0.000000  0.000000  0.000000  0.000000  0.000000\n",
       " 132  0.000000  0.000000  0.000000  0.000000  0.000000  0.000000\n",
       " 133  0.000000  0.000000  0.000000  0.000000  0.000000  0.000000\n",
       " 134  0.000000  0.000000  0.000000  0.000000  0.000000  0.000000\n",
       " 135  0.000000  0.000000  0.000000  0.000000  0.000000  0.000000\n",
       " 136  0.000000  0.000000  0.000000  0.000000  0.000000  0.000000\n",
       " 137  0.000000  0.000000  0.000000  0.000000  0.000000  0.000000\n",
       " 138  0.000000  0.000000  0.000000  0.000000  0.000000  0.000000\n",
       " 139  0.000000  0.000000  0.000000  0.000000  0.000000  0.000000\n",
       " 140  0.000000  0.000000  0.000000  0.000000  0.000000  0.000000\n",
       " 141  0.000000  0.000000  0.000000  0.000000  0.000000  0.000000\n",
       " 142  0.000000  0.000000  0.000000  0.000000  0.000000  0.000000\n",
       " 143  0.000000  0.000000  0.000000  0.000000  0.000000  0.000000\n",
       " 144  0.000000  0.000000  0.000000  0.000000  0.000000  0.000000\n",
       " 145  0.000000  0.000000  0.000000  0.000000  0.000000  0.000000\n",
       " 146  0.000000  0.000000  0.000000  0.000000  0.000000  0.000000\n",
       " 147  0.000000  0.000000  0.000000  0.000000  0.000000  0.000000\n",
       " 148  0.000000  0.000000  0.000000  0.000000  0.000000  0.000000\n",
       " 149  0.000000  0.000000  0.000000  0.000000  0.000000  0.000000\n",
       " \n",
       " [150 rows x 6 columns])"
      ]
     },
     "execution_count": 12,
     "metadata": {},
     "output_type": "execute_result"
    },
    {
     "data": {
      "image/png": "[encoded data removed]",
      "text/plain": [
       "<matplotlib.figure.Figure at 0x7fa01f7e3250>"
      ]
     },
     "metadata": {},
     "output_type": "display_data"
    }
   ],
   "source": [
    "# load data\n",
    "mypath = '/home/cdansereau/data/cobre/cobre_ln_cor/HC/'\n",
    "listdir(mypath)\n",
    "\n",
    "\n",
    "def load_subj(source_folder):\n",
    "    if not isdir(source_folder):\n",
    "        print 'Error folder does not exist', source_folder\n",
    "    else: \n",
    "        df = pd.read_csv(source_folder+'motion_params.csv',index_col=0)\n",
    "        vol_nii = nib.load(source_folder+'rest_ln.nii.gz')\n",
    "        \n",
    "    print vol_nii.shape\n",
    "    plt.plot(df.values)\n",
    "    return vol_nii, df\n",
    "    \n",
    "load_subj('/home/cdansereau/data/cobre/cobre_ln_cor/HC/0040057/')"
   ]
  }
 ],
 "metadata": {
  "kernelspec": {
   "display_name": "Python 2",
   "language": "python",
   "name": "python2"
  },
  "language_info": {
   "codemirror_mode": {
    "name": "ipython",
    "version": 2
   },
   "file_extension": ".py",
   "mimetype": "text/x-python",
   "name": "python",
   "nbconvert_exporter": "python",
   "pygments_lexer": "ipython2",
   "version": "2.7.13"
  }
 },
 "nbformat": 4,
 "nbformat_minor": 2
}
