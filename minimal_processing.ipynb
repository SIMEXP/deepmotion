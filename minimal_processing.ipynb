{
 "cells": [
  {
   "cell_type": "code",
   "execution_count": 59,
   "metadata": {},
   "outputs": [],
   "source": [
    "import nibabel as nib\n",
    "from deepmotion import registration\n",
    "from deepmotion.simulations import simu3d\n",
    "from deepmotion.utils import montage, io_utils\n",
    "import pandas as pd"
   ]
  },
  {
   "cell_type": "code",
   "execution_count": 20,
   "metadata": {},
   "outputs": [
    {
     "data": {
      "text/plain": [
       "(64, 64, 33, 150)"
      ]
     },
     "execution_count": 20,
     "metadata": {},
     "output_type": "execute_result"
    }
   ],
   "source": [
    "vol_nii = nib.load('/home/cdansereau/data/cobre_raw/HC/0040013/rest/rest.nii.gz')\n",
    "vol_nii.shape"
   ]
  },
  {
   "cell_type": "code",
   "execution_count": 21,
   "metadata": {},
   "outputs": [
    {
     "data": {
      "text/plain": [
       "array([[  3.74703026e+00,   0.00000000e+00,   1.81044444e-01,\n",
       "         -1.14080368e+02],\n",
       "       [  7.17121363e-02,   3.28851628e+00,  -2.18501711e+00,\n",
       "         -5.90863152e+01],\n",
       "       [ -1.30850002e-01,   1.80226541e+00,   3.98690677e+00,\n",
       "         -9.94152679e+01],\n",
       "       [  0.00000000e+00,   0.00000000e+00,   0.00000000e+00,\n",
       "          1.00000000e+00]])"
      ]
     },
     "execution_count": 21,
     "metadata": {},
     "output_type": "execute_result"
    }
   ],
   "source": [
    "vol_nii.affine"
   ]
  },
  {
   "cell_type": "code",
   "execution_count": 22,
   "metadata": {
    "collapsed": true
   },
   "outputs": [],
   "source": [
    "#fit(source, v2w_source, target, v2w_target, mask = [], verbose = False, stride=2,dowsamp_flag=True)\n",
    "coreg_vols, transfs, motion_params = registration.fit(vol_nii.get_data(),vol_nii.affine,vol_nii.get_data().mean(-1, ), vol_nii.affine )\n",
    "\n"
   ]
  },
  {
   "cell_type": "code",
   "execution_count": 23,
   "metadata": {},
   "outputs": [
    {
     "data": {
      "text/plain": [
       "(4, 4, 150)"
      ]
     },
     "execution_count": 23,
     "metadata": {},
     "output_type": "execute_result"
    }
   ],
   "source": [
    "transfs.shape"
   ]
  },
  {
   "cell_type": "code",
   "execution_count": null,
   "metadata": {
    "collapsed": true
   },
   "outputs": [],
   "source": [
    "# load subjects"
   ]
  },
  {
   "cell_type": "code",
   "execution_count": 12,
   "metadata": {},
   "outputs": [
    {
     "ename": "NameError",
     "evalue": "name 'nib' is not defined",
     "output_type": "error",
     "traceback": [
      "\u001b[0;31m---------------------------------------------------------------------------\u001b[0m",
      "\u001b[0;31mNameError\u001b[0m                                 Traceback (most recent call last)",
      "\u001b[0;32m<ipython-input-12-ff71f82e1ea9>\u001b[0m in \u001b[0;36m<module>\u001b[0;34m()\u001b[0m\n\u001b[0;32m----> 1\u001b[0;31m \u001b[0mvol_nii\u001b[0m \u001b[0;34m=\u001b[0m \u001b[0mnib\u001b[0m\u001b[0;34m.\u001b[0m\u001b[0mload\u001b[0m\u001b[0;34m(\u001b[0m\u001b[0;34m'/home/cdansereau/data/deepmotion/cobre/xp_2016_07_27_final/rest_'\u001b[0m\u001b[0;34m+\u001b[0m\u001b[0msubj_id\u001b[0m\u001b[0;34m+\u001b[0m\u001b[0;34m'.nii.gz'\u001b[0m\u001b[0;34m)\u001b[0m\u001b[0;34m\u001b[0m\u001b[0m\n\u001b[0m\u001b[1;32m      2\u001b[0m \u001b[0;34m\u001b[0m\u001b[0m\n",
      "\u001b[0;31mNameError\u001b[0m: name 'nib' is not defined"
     ]
    }
   ],
   "source": [
    "vol_nii = nib.load('/home/cdansereau/data/deepmotion/cobre/xp_2016_07_27_final/rest_'+subj_id+'.nii.gz')\n",
    "\n"
   ]
  },
  {
   "cell_type": "code",
   "execution_count": 28,
   "metadata": {
    "scrolled": true
   },
   "outputs": [],
   "source": [
    "df = pd.DataFrame(motion_params)\n",
    "df.to_csv"
   ]
  },
  {
   "cell_type": "code",
   "execution_count": 8,
   "metadata": {},
   "outputs": [],
   "source": [
    "\n",
    "from os import listdir\n",
    "from os.path import isfile, join\n",
    "onlyfiles = [f for f in listdir(mypath) if isfile(join(mypath, f))]"
   ]
  },
  {
   "cell_type": "code",
   "execution_count": 33,
   "metadata": {},
   "outputs": [
    {
     "name": "stdout",
     "output_type": "stream",
     "text": [
      "\u001b[0m\u001b[01;34mHC\u001b[0m/  \u001b[01;34mSZ\u001b[0m/\r\n"
     ]
    }
   ],
   "source": [
    "ls /home/cdansereau/data/cobre/cobre_ln_cor/"
   ]
  },
  {
   "cell_type": "code",
   "execution_count": 67,
   "metadata": {
    "scrolled": true
   },
   "outputs": [
    {
     "name": "stdout",
     "output_type": "stream",
     "text": [
      "create new folder /home/cdansereau/data/cobre/cobre_ln_cor/HC/0040065/\n",
      "create new folder /home/cdansereau/data/cobre/cobre_ln_cor/HC/0040115/\n",
      "create new folder /home/cdansereau/data/cobre/cobre_ln_cor/HC/0040018/\n",
      "create new folder /home/cdansereau/data/cobre/cobre_ln_cor/HC/0040134/\n",
      "create new folder /home/cdansereau/data/cobre/cobre_ln_cor/HC/0040033/\n",
      "create new folder /home/cdansereau/data/cobre/cobre_ln_cor/HC/0040076/\n",
      "create new folder /home/cdansereau/data/cobre/cobre_ln_cor/HC/0040095/\n",
      "create new folder /home/cdansereau/data/cobre/cobre_ln_cor/HC/0040144/\n",
      "create new folder /home/cdansereau/data/cobre/cobre_ln_cor/HC/0040139/\n",
      "create new folder /home/cdansereau/data/cobre/cobre_ln_cor/HC/0040043/\n",
      "create new folder /home/cdansereau/data/cobre/cobre_ln_cor/HC/0040062/\n",
      "create new folder /home/cdansereau/data/cobre/cobre_ln_cor/HC/0040118/\n",
      "create new folder /home/cdansereau/data/cobre/cobre_ln_cor/HC/0040068/\n",
      "create new folder /home/cdansereau/data/cobre/cobre_ln_cor/HC/0040086/\n",
      "create new folder /home/cdansereau/data/cobre/cobre_ln_cor/HC/0040027/\n",
      "create new folder /home/cdansereau/data/cobre/cobre_ln_cor/HC/0040050/\n",
      "create new folder /home/cdansereau/data/cobre/cobre_ln_cor/HC/0040120/\n",
      "create new folder /home/cdansereau/data/cobre/cobre_ln_cor/HC/0040124/\n",
      "create new folder /home/cdansereau/data/cobre/cobre_ln_cor/HC/0040023/\n",
      "create new folder /home/cdansereau/data/cobre/cobre_ln_cor/HC/0040054/\n",
      "create new folder /home/cdansereau/data/cobre/cobre_ln_cor/HC/0040116/\n",
      "create new folder /home/cdansereau/data/cobre/cobre_ln_cor/HC/0040066/\n",
      "create new folder /home/cdansereau/data/cobre/cobre_ln_cor/HC/0040030/\n",
      "create new folder /home/cdansereau/data/cobre/cobre_ln_cor/HC/0040140/\n",
      "create new folder /home/cdansereau/data/cobre/cobre_ln_cor/HC/0040091/\n",
      "create new folder /home/cdansereau/data/cobre/cobre_ln_cor/HC/0040102/\n",
      "create new folder /home/cdansereau/data/cobre/cobre_ln_cor/HC/0040130/\n",
      "create new folder /home/cdansereau/data/cobre/cobre_ln_cor/HC/0040147/\n",
      "create new folder /home/cdansereau/data/cobre/cobre_ln_cor/HC/0040111/\n",
      "create new folder /home/cdansereau/data/cobre/cobre_ln_cor/HC/0040061/\n",
      "create new folder /home/cdansereau/data/cobre/cobre_ln_cor/HC/0040123/\n",
      "create new folder /home/cdansereau/data/cobre/cobre_ln_cor/HC/0040053/\n",
      "create new folder /home/cdansereau/data/cobre/cobre_ln_cor/HC/0040024/\n",
      "create new folder /home/cdansereau/data/cobre/cobre_ln_cor/HC/0040129/\n",
      "create new folder /home/cdansereau/data/cobre/cobre_ln_cor/HC/0040069/\n",
      "create new folder /home/cdansereau/data/cobre/cobre_ln_cor/HC/0040087/\n",
      "create new folder /home/cdansereau/data/cobre/cobre_ln_cor/HC/0040113/\n",
      "create new folder /home/cdansereau/data/cobre/cobre_ln_cor/HC/0040014/\n",
      "create new folder /home/cdansereau/data/cobre/cobre_ln_cor/HC/0040063/\n",
      "create new folder /home/cdansereau/data/cobre/cobre_ln_cor/HC/0040119/\n",
      "create new folder /home/cdansereau/data/cobre/cobre_ln_cor/HC/0040121/\n",
      "create new folder /home/cdansereau/data/cobre/cobre_ln_cor/HC/0040051/\n",
      "create new folder /home/cdansereau/data/cobre/cobre_ln_cor/HC/0040026/\n",
      "create new folder /home/cdansereau/data/cobre/cobre_ln_cor/HC/0040138/\n",
      "create new folder /home/cdansereau/data/cobre/cobre_ln_cor/HC/0040035/\n",
      "create new folder /home/cdansereau/data/cobre/cobre_ln_cor/HC/0040048/\n",
      "create new folder /home/cdansereau/data/cobre/cobre_ln_cor/HC/0040045/\n",
      "create new folder /home/cdansereau/data/cobre/cobre_ln_cor/HC/0040038/\n",
      "create new folder /home/cdansereau/data/cobre/cobre_ln_cor/HC/0040135/\n",
      "create new folder /home/cdansereau/data/cobre/cobre_ln_cor/HC/0040107/\n",
      "create new folder /home/cdansereau/data/cobre/cobre_ln_cor/HC/0040093/\n",
      "create new folder /home/cdansereau/data/cobre/cobre_ln_cor/HC/0040056/\n",
      "create new folder /home/cdansereau/data/cobre/cobre_ln_cor/HC/0040114/\n",
      "create new folder /home/cdansereau/data/cobre/cobre_ln_cor/HC/0040019/\n",
      "create new folder /home/cdansereau/data/cobre/cobre_ln_cor/HC/0040013/\n",
      "create new folder /home/cdansereau/data/cobre/cobre_ln_cor/HC/0040017/\n",
      "create new folder /home/cdansereau/data/cobre/cobre_ln_cor/HC/0040052/\n",
      "create new folder /home/cdansereau/data/cobre/cobre_ln_cor/HC/0040128/\n",
      "create new folder /home/cdansereau/data/cobre/cobre_ln_cor/HC/0040058/\n",
      "create new folder /home/cdansereau/data/cobre/cobre_ln_cor/HC/0040146/\n",
      "create new folder /home/cdansereau/data/cobre/cobre_ln_cor/HC/0040131/\n",
      "create new folder /home/cdansereau/data/cobre/cobre_ln_cor/HC/0040036/\n",
      "create new folder /home/cdansereau/data/cobre/cobre_ln_cor/HC/0040136/\n",
      "create new folder /home/cdansereau/data/cobre/cobre_ln_cor/HC/0040141/\n",
      "create new folder /home/cdansereau/data/cobre/cobre_ln_cor/HC/0040031/\n",
      "create new folder /home/cdansereau/data/cobre/cobre_ln_cor/HC/0040104/\n",
      "create new folder /home/cdansereau/data/cobre/cobre_ln_cor/HC/0040090/\n",
      "create new folder /home/cdansereau/data/cobre/cobre_ln_cor/HC/0040074/\n",
      "create new folder /home/cdansereau/data/cobre/cobre_ln_cor/HC/0040055/\n",
      "create new folder /home/cdansereau/data/cobre/cobre_ln_cor/HC/0040125/\n",
      "create new folder /home/cdansereau/data/cobre/cobre_ln_cor/HC/0040067/\n"
     ]
    }
   ],
   "source": [
    "from os import listdir\n",
    "from os.path import isdir\n",
    "from os import mkdir\n",
    "mypath = '/home/cdansereau/data/cobre/cobre_raw/HC/'\n",
    "\n",
    "for subj_id in listdir(mypath):\n",
    "    output_folder = '/home/cdansereau/data/cobre/cobre_ln_cor/HC/'+subj_id+'/'\n",
    "    if not isdir(output_folder):\n",
    "        mkdir(output_folder)\n",
    "        print 'create new folder', output_folder\n",
    "    vol_nii = nib.load('/home/cdansereau/data/cobre/cobre_raw/HC/'+subj_id+'/rest/rest.nii.gz')\n",
    "    coreg_vols, transfs, motion_params = registration.fit(vol_nii.get_data(),vol_nii.affine,vol_nii.get_data().mean(-1, ), vol_nii.affine )\n",
    "    df = pd.DataFrame(motion_params)\n",
    "    df.to_csv(output_folder + 'motion_params.csv')\n",
    "    coreg_vol_nii = nib.Nifti1Image(coreg_vols,vol_nii.affine)\n",
    "    coreg_vol_nii.to_filename(output_folder + 'rest_ln.nii.gz')\n",
    "    io_utils.write({'vol':coreg_vols, 'v2w_affine':vol_nii.affine,'transfs':transfs, 'motion_params':motion_params},\n",
    "                   output_folder+ 'data_ln.hd5')"
   ]
  },
  {
   "cell_type": "code",
   "execution_count": 69,
   "metadata": {
    "scrolled": true
   },
   "outputs": [
    {
     "name": "stdout",
     "output_type": "stream",
     "text": [
      "create new folder /home/cdansereau/data/cobre/cobre_ln_cor/SZ/0040011/\n",
      "create new folder /home/cdansereau/data/cobre/cobre_ln_cor/SZ/0040088/\n",
      "create new folder /home/cdansereau/data/cobre/cobre_ln_cor/SZ/0040082/\n",
      "create new folder /home/cdansereau/data/cobre/cobre_ln_cor/SZ/0040029/\n",
      "create new folder /home/cdansereau/data/cobre/cobre_ln_cor/SZ/0040105/\n",
      "create new folder /home/cdansereau/data/cobre/cobre_ln_cor/SZ/0040008/\n",
      "create new folder /home/cdansereau/data/cobre/cobre_ln_cor/SZ/0040075/\n",
      "create new folder /home/cdansereau/data/cobre/cobre_ln_cor/SZ/0040002/\n",
      "create new folder /home/cdansereau/data/cobre/cobre_ln_cor/SZ/0040137/\n",
      "create new folder /home/cdansereau/data/cobre/cobre_ln_cor/SZ/0040047/\n",
      "create new folder /home/cdansereau/data/cobre/cobre_ln_cor/SZ/0040040/\n",
      "create new folder /home/cdansereau/data/cobre/cobre_ln_cor/SZ/0040037/\n",
      "create new folder /home/cdansereau/data/cobre/cobre_ln_cor/SZ/0040078/\n",
      "create new folder /home/cdansereau/data/cobre/cobre_ln_cor/SZ/0040096/\n",
      "create new folder /home/cdansereau/data/cobre/cobre_ln_cor/SZ/0040005/\n",
      "create new folder /home/cdansereau/data/cobre/cobre_ln_cor/SZ/0040072/\n",
      "create new folder /home/cdansereau/data/cobre/cobre_ln_cor/SZ/0040108/\n",
      "create new folder /home/cdansereau/data/cobre/cobre_ln_cor/SZ/0040059/\n",
      "create new folder /home/cdansereau/data/cobre/cobre_ln_cor/SZ/0040016/\n",
      "create new folder /home/cdansereau/data/cobre/cobre_ln_cor/SZ/0040085/\n",
      "create new folder /home/cdansereau/data/cobre/cobre_ln_cor/SZ/0040081/\n",
      "create new folder /home/cdansereau/data/cobre/cobre_ln_cor/SZ/0040012/\n",
      "create new folder /home/cdansereau/data/cobre/cobre_ln_cor/SZ/0040098/\n",
      "create new folder /home/cdansereau/data/cobre/cobre_ln_cor/SZ/0040001/\n",
      "create new folder /home/cdansereau/data/cobre/cobre_ln_cor/SZ/0040106/\n",
      "create new folder /home/cdansereau/data/cobre/cobre_ln_cor/SZ/0040092/\n",
      "create new folder /home/cdansereau/data/cobre/cobre_ln_cor/SZ/0040044/\n",
      "create new folder /home/cdansereau/data/cobre/cobre_ln_cor/SZ/0040143/\n",
      "create new folder /home/cdansereau/data/cobre/cobre_ln_cor/SZ/0040039/\n",
      "create new folder /home/cdansereau/data/cobre/cobre_ln_cor/SZ/0040034/\n",
      "create new folder /home/cdansereau/data/cobre/cobre_ln_cor/SZ/0040049/\n",
      "create new folder /home/cdansereau/data/cobre/cobre_ln_cor/SZ/0040133/\n",
      "create new folder /home/cdansereau/data/cobre/cobre_ln_cor/SZ/0040071/\n",
      "create new folder /home/cdansereau/data/cobre/cobre_ln_cor/SZ/0040006/\n",
      "create new folder /home/cdansereau/data/cobre/cobre_ln_cor/SZ/0040101/\n",
      "create new folder /home/cdansereau/data/cobre/cobre_ln_cor/SZ/0040112/\n",
      "create new folder /home/cdansereau/data/cobre/cobre_ln_cor/SZ/0040015/\n",
      "create new folder /home/cdansereau/data/cobre/cobre_ln_cor/SZ/0040122/\n",
      "create new folder /home/cdansereau/data/cobre/cobre_ln_cor/SZ/0040025/\n",
      "create new folder /home/cdansereau/data/cobre/cobre_ln_cor/SZ/0040084/\n"
     ]
    },
    {
     "name": "stderr",
     "output_type": "stream",
     "text": [
      "/home_sq/cdansereau/.local/lib/python2.7/site-packages/numpy/lib/function_base.py:3003: RuntimeWarning: invalid value encountered in true_divide\n",
      "  c /= stddev[:, None]\n",
      "/home_sq/cdansereau/.local/lib/python2.7/site-packages/numpy/lib/function_base.py:3004: RuntimeWarning: invalid value encountered in true_divide\n",
      "  c /= stddev[None, :]\n"
     ]
    },
    {
     "name": "stdout",
     "output_type": "stream",
     "text": [
      "create new folder /home/cdansereau/data/cobre/cobre_ln_cor/SZ/0040110/\n",
      "create new folder /home/cdansereau/data/cobre/cobre_ln_cor/SZ/0040060/\n",
      "create new folder /home/cdansereau/data/cobre/cobre_ln_cor/SZ/0040041/\n",
      "create new folder /home/cdansereau/data/cobre/cobre_ln_cor/SZ/0040073/\n",
      "create new folder /home/cdansereau/data/cobre/cobre_ln_cor/SZ/0040004/\n",
      "create new folder /home/cdansereau/data/cobre/cobre_ln_cor/SZ/0040109/\n",
      "create new folder /home/cdansereau/data/cobre/cobre_ln_cor/SZ/0040079/\n",
      "create new folder /home/cdansereau/data/cobre/cobre_ln_cor/SZ/0040097/\n",
      "create new folder /home/cdansereau/data/cobre/cobre_ln_cor/SZ/0040103/\n",
      "create new folder /home/cdansereau/data/cobre/cobre_ln_cor/SZ/0040003/\n",
      "create new folder /home/cdansereau/data/cobre/cobre_ln_cor/SZ/0040009/\n",
      "create new folder /home/cdansereau/data/cobre/cobre_ln_cor/SZ/0040046/\n",
      "create new folder /home/cdansereau/data/cobre/cobre_ln_cor/SZ/0040117/\n",
      "create new folder /home/cdansereau/data/cobre/cobre_ln_cor/SZ/0040010/\n",
      "create new folder /home/cdansereau/data/cobre/cobre_ln_cor/SZ/0040089/\n",
      "create new folder /home/cdansereau/data/cobre/cobre_ln_cor/SZ/0040028/\n",
      "create new folder /home/cdansereau/data/cobre/cobre_ln_cor/SZ/0040022/\n",
      "create new folder /home/cdansereau/data/cobre/cobre_ln_cor/SZ/0040132/\n",
      "create new folder /home/cdansereau/data/cobre/cobre_ln_cor/SZ/0040145/\n",
      "create new folder /home/cdansereau/data/cobre/cobre_ln_cor/SZ/0040042/\n",
      "create new folder /home/cdansereau/data/cobre/cobre_ln_cor/SZ/0040094/\n",
      "create new folder /home/cdansereau/data/cobre/cobre_ln_cor/SZ/0040100/\n",
      "create new folder /home/cdansereau/data/cobre/cobre_ln_cor/SZ/0040007/\n",
      "create new folder /home/cdansereau/data/cobre/cobre_ln_cor/SZ/0040099/\n",
      "create new folder /home/cdansereau/data/cobre/cobre_ln_cor/SZ/0040077/\n",
      "create new folder /home/cdansereau/data/cobre/cobre_ln_cor/SZ/0040000/\n",
      "create new folder /home/cdansereau/data/cobre/cobre_ln_cor/SZ/0040142/\n",
      "create new folder /home/cdansereau/data/cobre/cobre_ln_cor/SZ/0040032/\n",
      "create new folder /home/cdansereau/data/cobre/cobre_ln_cor/SZ/0040064/\n",
      "create new folder /home/cdansereau/data/cobre/cobre_ln_cor/SZ/0040080/\n",
      "create new folder /home/cdansereau/data/cobre/cobre_ln_cor/SZ/0040021/\n",
      "create new folder /home/cdansereau/data/cobre/cobre_ln_cor/SZ/0040126/\n"
     ]
    }
   ],
   "source": [
    "from os import listdir\n",
    "from os.path import isdir\n",
    "from os import mkdir\n",
    "mypath = '/home/cdansereau/data/cobre/cobre_raw/SZ/'\n",
    "\n",
    "for subj_id in listdir(mypath):\n",
    "    output_folder = '/home/cdansereau/data/cobre/cobre_ln_cor/SZ/'+subj_id+'/'\n",
    "    if not isdir(output_folder):\n",
    "        mkdir(output_folder)\n",
    "        print 'create new folder', output_folder\n",
    "    vol_nii = nib.load('/home/cdansereau/data/cobre/cobre_raw/SZ/'+subj_id+'/rest/rest.nii.gz')\n",
    "    coreg_vols, transfs, motion_params = registration.fit(vol_nii.get_data(),vol_nii.affine,vol_nii.get_data().mean(-1, ), vol_nii.affine )\n",
    "    df = pd.DataFrame(motion_params)\n",
    "    df.to_csv(output_folder + 'motion_params.csv')\n",
    "    coreg_vol_nii = nib.Nifti1Image(coreg_vols,vol_nii.affine)\n",
    "    coreg_vol_nii.to_filename(output_folder + 'rest_ln.nii.gz')\n",
    "    io_utils.write({'vol':coreg_vols, 'v2w_affine':vol_nii.affine,'transfs':transfs, 'motion_params':motion_params},\n",
    "                   output_folder+ 'data_ln.hd5')"
   ]
  },
  {
   "cell_type": "code",
   "execution_count": null,
   "metadata": {},
   "outputs": [],
   "source": [
    "# load data\n",
    "\n",
    "def load_subj(source_folder):\n",
    "    if not isdir(source_folder):\n",
    "        print 'Error folder does not exist', source_folder\n",
    "    else: \n",
    "        df = pd.read_csv(source_folder+'motion_params.csv')\n",
    "        vol_nii = nib.load(source_folder+'rest_ln.nii.gz')\n",
    "    \n",
    "load_subj('/home/cdansereau/data/cobre/cobre_ln_cor/HC/0040057/')"
   ]
  },
  {
   "cell_type": "code",
   "execution_count": 55,
   "metadata": {},
   "outputs": [
    {
     "ename": "NameError",
     "evalue": "name 'ls' is not defined",
     "output_type": "error",
     "traceback": [
      "\u001b[0;31m---------------------------------------------------------------------------\u001b[0m",
      "\u001b[0;31mNameError\u001b[0m                                 Traceback (most recent call last)",
      "\u001b[0;32m<ipython-input-55-eb49d0f1066d>\u001b[0m in \u001b[0;36m<module>\u001b[0;34m()\u001b[0m\n\u001b[1;32m      1\u001b[0m \u001b[0;31m# Train on real data\u001b[0m\u001b[0;34m\u001b[0m\u001b[0;34m\u001b[0m\u001b[0m\n\u001b[1;32m      2\u001b[0m \u001b[0;34m\u001b[0m\u001b[0m\n\u001b[0;32m----> 3\u001b[0;31m \u001b[0mls\u001b[0m \u001b[0;34m/\u001b[0m\u001b[0mhome\u001b[0m\u001b[0;34m/\u001b[0m\u001b[0mcdansereau\u001b[0m\u001b[0;34m/\u001b[0m\u001b[0mdata\u001b[0m\u001b[0;34m/\u001b[0m\u001b[0mcobre\u001b[0m\u001b[0;34m/\u001b[0m\u001b[0mcobre_ln_cor\u001b[0m\u001b[0;34m/\u001b[0m\u001b[0mHC\u001b[0m\u001b[0;34m/\u001b[0m\u001b[0;36m0040057\u001b[0m\u001b[0;34m\u001b[0m\u001b[0m\n\u001b[0m",
      "\u001b[0;31mNameError\u001b[0m: name 'ls' is not defined"
     ]
    }
   ],
   "source": [
    "# Train on real data\n",
    "\n"
   ]
  },
  {
   "cell_type": "code",
   "execution_count": 68,
   "metadata": {},
   "outputs": [
    {
     "name": "stdout",
     "output_type": "stream",
     "text": [
      "\u001b[0m\u001b[01;34m0040013\u001b[0m/  \u001b[01;34m0040030\u001b[0m/  \u001b[01;34m0040051\u001b[0m/  \u001b[01;34m0040063\u001b[0m/  \u001b[01;34m0040090\u001b[0m/  \u001b[01;34m0040115\u001b[0m/  \u001b[01;34m0040128\u001b[0m/  \u001b[01;34m0040141\u001b[0m/\r\n",
      "\u001b[01;34m0040014\u001b[0m/  \u001b[01;34m0040031\u001b[0m/  \u001b[01;34m0040052\u001b[0m/  \u001b[01;34m0040065\u001b[0m/  \u001b[01;34m0040091\u001b[0m/  \u001b[01;34m0040116\u001b[0m/  \u001b[01;34m0040129\u001b[0m/  \u001b[01;34m0040144\u001b[0m/\r\n",
      "\u001b[01;34m0040017\u001b[0m/  \u001b[01;34m0040033\u001b[0m/  \u001b[01;34m0040053\u001b[0m/  \u001b[01;34m0040066\u001b[0m/  \u001b[01;34m0040093\u001b[0m/  \u001b[01;34m0040118\u001b[0m/  \u001b[01;34m0040130\u001b[0m/  \u001b[01;34m0040146\u001b[0m/\r\n",
      "\u001b[01;34m0040018\u001b[0m/  \u001b[01;34m0040035\u001b[0m/  \u001b[01;34m0040054\u001b[0m/  \u001b[01;34m0040067\u001b[0m/  \u001b[01;34m0040095\u001b[0m/  \u001b[01;34m0040119\u001b[0m/  \u001b[01;34m0040131\u001b[0m/  \u001b[01;34m0040147\u001b[0m/\r\n",
      "\u001b[01;34m0040019\u001b[0m/  \u001b[01;34m0040036\u001b[0m/  \u001b[01;34m0040055\u001b[0m/  \u001b[01;34m0040068\u001b[0m/  \u001b[01;34m0040102\u001b[0m/  \u001b[01;34m0040120\u001b[0m/  \u001b[01;34m0040134\u001b[0m/\r\n",
      "\u001b[01;34m0040020\u001b[0m/  \u001b[01;34m0040038\u001b[0m/  \u001b[01;34m0040056\u001b[0m/  \u001b[01;34m0040069\u001b[0m/  \u001b[01;34m0040104\u001b[0m/  \u001b[01;34m0040121\u001b[0m/  \u001b[01;34m0040135\u001b[0m/\r\n",
      "\u001b[01;34m0040023\u001b[0m/  \u001b[01;34m0040043\u001b[0m/  \u001b[01;34m0040057\u001b[0m/  \u001b[01;34m0040074\u001b[0m/  \u001b[01;34m0040107\u001b[0m/  \u001b[01;34m0040123\u001b[0m/  \u001b[01;34m0040136\u001b[0m/\r\n",
      "\u001b[01;34m0040024\u001b[0m/  \u001b[01;34m0040045\u001b[0m/  \u001b[01;34m0040058\u001b[0m/  \u001b[01;34m0040076\u001b[0m/  \u001b[01;34m0040111\u001b[0m/  \u001b[01;34m0040124\u001b[0m/  \u001b[01;34m0040138\u001b[0m/\r\n",
      "\u001b[01;34m0040026\u001b[0m/  \u001b[01;34m0040048\u001b[0m/  \u001b[01;34m0040061\u001b[0m/  \u001b[01;34m0040086\u001b[0m/  \u001b[01;34m0040113\u001b[0m/  \u001b[01;34m0040125\u001b[0m/  \u001b[01;34m0040139\u001b[0m/\r\n",
      "\u001b[01;34m0040027\u001b[0m/  \u001b[01;34m0040050\u001b[0m/  \u001b[01;34m0040062\u001b[0m/  \u001b[01;34m0040087\u001b[0m/  \u001b[01;34m0040114\u001b[0m/  \u001b[01;34m0040127\u001b[0m/  \u001b[01;34m0040140\u001b[0m/\r\n"
     ]
    }
   ],
   "source": [
    "ls /home/cdansereau/data/cobre/cobre_ln_cor/HC/"
   ]
  },
  {
   "cell_type": "code",
   "execution_count": 65,
   "metadata": {},
   "outputs": [
    {
     "name": "stdout",
     "output_type": "stream",
     "text": [
      "('List of arrays in this file: ', [u'motion_params', u'transfs', u'vol'])\n"
     ]
    }
   ],
   "source": [
    "dd = io_utils.load('/home/cdansereau/data/cobre/cobre_ln_cor/HC/0040057/test_dat.hd5')"
   ]
  }
 ],
 "metadata": {
  "kernelspec": {
   "display_name": "Python 2",
   "language": "python",
   "name": "python2"
  },
  "language_info": {
   "codemirror_mode": {
    "name": "ipython",
    "version": 2
   },
   "file_extension": ".py",
   "mimetype": "text/x-python",
   "name": "python",
   "nbconvert_exporter": "python",
   "pygments_lexer": "ipython2",
   "version": "2.7.13"
  }
 },
 "nbformat": 4,
 "nbformat_minor": 2
}
